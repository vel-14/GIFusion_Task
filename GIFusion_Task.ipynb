{
  "nbformat": 4,
  "nbformat_minor": 0,
  "metadata": {
    "colab": {
      "provenance": []
    },
    "kernelspec": {
      "name": "python3",
      "display_name": "Python 3"
    },
    "language_info": {
      "name": "python"
    }
  },
  "cells": [
    {
      "cell_type": "markdown",
      "source": [
        "Given a signed 32-bit integer x, return x with its digits reversed. If reversing x causes the value to go outside the signed 32-bit integer range [-2**31, 2**31 - 1], then return 0."
      ],
      "metadata": {
        "id": "Aq5a839_QpHm"
      }
    },
    {
      "cell_type": "code",
      "source": [
        "def reverse(num):\n",
        "      num = str(num)\n",
        "      ans = ''\n",
        "\n",
        "      # checking the number is negetive or not\n",
        "      if num[0] == '-':\n",
        "          ans =num[0]\n",
        "          num = num[1:]\n",
        "\n",
        "      # reversing the numbers\n",
        "      for char in num[::-1]:\n",
        "          ans += char\n",
        "      ans = int(ans)\n",
        "\n",
        "      # checking whether the answer is 32 bit\n",
        "      if ans >= 0:\n",
        "        if ans < ((2**31)-1):\n",
        "          return ans\n",
        "      else:\n",
        "        if ans > -2**31:\n",
        "          return ans\n",
        "\n",
        "      # if it is not a 32 bit number then return 0\n",
        "      return 0"
      ],
      "metadata": {
        "id": "K1mSd9EPO7f9"
      },
      "execution_count": 19,
      "outputs": []
    },
    {
      "cell_type": "code",
      "source": [
        "print(reverse(-351))"
      ],
      "metadata": {
        "colab": {
          "base_uri": "https://localhost:8080/"
        },
        "id": "5pTgNkNfPMPW",
        "outputId": "53e93991-b000-4f2c-e5f9-57c76505686a"
      },
      "execution_count": 20,
      "outputs": [
        {
          "output_type": "stream",
          "name": "stdout",
          "text": [
            "-153\n"
          ]
        }
      ]
    },
    {
      "cell_type": "code",
      "source": [
        "print(reverse(1234578798))"
      ],
      "metadata": {
        "colab": {
          "base_uri": "https://localhost:8080/"
        },
        "id": "jmi30v-HPd4y",
        "outputId": "d3388f0c-4f91-4ff7-9e8e-2e4560700b7d"
      },
      "execution_count": 22,
      "outputs": [
        {
          "output_type": "stream",
          "name": "stdout",
          "text": [
            "0\n"
          ]
        }
      ]
    },
    {
      "cell_type": "markdown",
      "source": [
        "#### SQL ANSWER"
      ],
      "metadata": {
        "id": "e_rChVCrTb5q"
      }
    },
    {
      "cell_type": "markdown",
      "source": [
        "\n",
        "\n",
        "\n",
        "\n",
        "```\n",
        "CREATE FUNCTION NthHighestSalary(N INT) RETURNS INT\n",
        "BEGIN\n",
        "SET N = N-1;\n",
        "  RETURN (\n",
        "      SELECT DISTINCT(salary) from Employee order by salary DESC\n",
        "      LIMIT 1 OFFSET N\n",
        "      \n",
        "  );\n",
        "END\n",
        "\n",
        "\n",
        "```\n",
        "\n",
        "\n",
        "\n"
      ],
      "metadata": {
        "id": "U5uXZVDDTmyc"
      }
    },
    {
      "cell_type": "code",
      "source": [],
      "metadata": {
        "id": "4UjII4jBToN4"
      },
      "execution_count": null,
      "outputs": []
    }
  ]
}